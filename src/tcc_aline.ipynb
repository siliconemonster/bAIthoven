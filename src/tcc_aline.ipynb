{
  "nbformat": 4,
  "nbformat_minor": 0,
  "metadata": {
    "colab": {
      "name": "tcc_aline.ipynb",
      "provenance": [],
      "collapsed_sections": [
        "9zf3akm-_wDm",
        "bXuORXvw1tBq",
        "kK9lXbACwMiJ"
      ]
    },
    "kernelspec": {
      "name": "python3",
      "display_name": "Python 3"
    },
    "language_info": {
      "name": "python"
    }
  },
  "cells": [
    {
      "cell_type": "markdown",
      "source": [
        "#Tasks"
      ],
      "metadata": {
        "id": "9zf3akm-_wDm"
      }
    },
    {
      "cell_type": "markdown",
      "source": [
        "Currently empty\n"
      ],
      "metadata": {
        "id": "clE6XLQCUSt2"
      }
    },
    {
      "cell_type": "markdown",
      "source": [
        "# Implementation"
      ],
      "metadata": {
        "id": "G4TjRwsR_uNj"
      }
    },
    {
      "cell_type": "markdown",
      "source": [
        "화이팅"
      ],
      "metadata": {
        "id": "VA9Iby4pXOdY"
      }
    },
    {
      "cell_type": "markdown",
      "source": [
        "## Installing and Importing dependencies"
      ],
      "metadata": {
        "id": "bXuORXvw1tBq"
      }
    },
    {
      "cell_type": "code",
      "execution_count": null,
      "metadata": {
        "id": "wvLmIOSBXLmO",
        "colab": {
          "base_uri": "https://localhost:8080/"
        },
        "outputId": "8701cea0-e53b-4a3d-fb39-696bee183181"
      },
      "outputs": [
        {
          "output_type": "stream",
          "name": "stdout",
          "text": [
            "Mounted at /content/gdrive\n"
          ]
        }
      ],
      "source": [
        "# Mount Drive\n",
        "from google.colab import drive\n",
        "drive.mount('/content/gdrive', force_remount=True)"
      ]
    },
    {
      "cell_type": "code",
      "source": [
        "#enables music21 to render images of musical notes\n",
        "print('installing lilypond...')\n",
        "!apt-get install lilypond > /dev/null\n",
        "\n",
        "print('installing musescore...')\n",
        "!sudo apt-get install musescore\n",
        "\n",
        "#converts midi files to wav files into order to play them\n",
        "print('installing fluidsynth...')\n",
        "!apt-get install fluidsynth > /dev/null\n",
        "!cp /usr/share/sounds/sf2/FluidR3_GM.sf2 ./font.sf2\n",
        "\n",
        "print(\"Done\")"
      ],
      "metadata": {
        "id": "ZSkRfwnfXLZt",
        "colab": {
          "base_uri": "https://localhost:8080/"
        },
        "outputId": "dea0b8ab-72b1-4029-cc56-26e307d2d8cb"
      },
      "execution_count": null,
      "outputs": [
        {
          "output_type": "stream",
          "name": "stdout",
          "text": [
            "installing lilypond...\n",
            "installing musescore...\n",
            "Reading package lists... Done\n",
            "Building dependency tree       \n",
            "Reading state information... Done\n",
            "musescore is already the newest version (2.1.0+dfsg3-3build1).\n",
            "The following package was automatically installed and is no longer required:\n",
            "  libnvidia-common-460\n",
            "Use 'sudo apt autoremove' to remove it.\n",
            "0 upgraded, 0 newly installed, 0 to remove and 49 not upgraded.\n",
            "installing fluidsynth...\n",
            "Done\n"
          ]
        }
      ]
    },
    {
      "cell_type": "code",
      "source": [
        "pip install music21"
      ],
      "metadata": {
        "colab": {
          "base_uri": "https://localhost:8080/"
        },
        "id": "sGAntFfBPbjk",
        "outputId": "83fb12db-4676-45da-f797-58b21938b73b"
      },
      "execution_count": null,
      "outputs": [
        {
          "output_type": "stream",
          "name": "stdout",
          "text": [
            "Looking in indexes: https://pypi.org/simple, https://us-python.pkg.dev/colab-wheels/public/simple/\n",
            "Requirement already satisfied: music21 in /usr/local/lib/python3.7/dist-packages (5.5.0)\n"
          ]
        }
      ]
    },
    {
      "cell_type": "code",
      "source": [
        "# Importing libraries\n",
        "from music21 import *\n",
        "import csv\n",
        "import copy\n",
        "import pandas as pd\n",
        "from IPython.display import Image, Audio"
      ],
      "metadata": {
        "id": "2fBVkOIrks9m"
      },
      "execution_count": null,
      "outputs": []
    },
    {
      "cell_type": "markdown",
      "source": [
        "## Code"
      ],
      "metadata": {
        "id": "Qowdvk7d10Hf"
      }
    },
    {
      "cell_type": "code",
      "source": [
        "def set_events_per_channel(channel, channel_number):\n",
        "  events = []\n",
        "\n",
        "  for i in range(len(channel)):\n",
        "    if type(channel[i]) == note.Note:\n",
        "      event = ['Note', channel[i].nameWithOctave, channel[i].quarterLength, channel[i].offset, channel[i].volume.velocity, channel_number]\n",
        "      events.append(event)\n",
        "\n",
        "    if type(channel[i]) == chord.Chord:\n",
        "      event = ['Chord', [x.nameWithOctave for x in channel[i]], channel[i].quarterLength, channel[i].offset, channel[i].volume.velocity, channel_number]\n",
        "      events.append(event)\n",
        "\n",
        "    if type(channel[i]) == note.Rest:\n",
        "      event = ['Rest', '#', channel[i].quarterLength, channel[i].offset, 'none', channel_number]\n",
        "      events.append(event)\n",
        "  \n",
        "  return events\n",
        "\n",
        "def get_midi_info(piece):\n",
        "  events_1 = []\n",
        "  events_2 = []\n",
        "\n",
        "  channel_1 = [x for x in piece.parts[0].flat.stripTies()]\n",
        "  channel_2 = [x for x in piece.parts[1].flat.stripTies()]\n",
        "\n",
        "  events_1 = set_events_per_channel(channel_1, 0)\n",
        "  events_2 = set_events_per_channel(channel_2, 1)\n",
        "\n",
        "  return events_1, events_2\n",
        "\n",
        "# =============================================================================\n",
        "\n",
        "def channel_insertion(events, id_string):\n",
        "\n",
        "  new_channel = stream.Part(id = id_string)\n",
        "\n",
        "  for i in range(len(events)):\n",
        "    if events[i][0] == 'Note':\n",
        "      valor_ = note.Note(events[i][1])\n",
        "      valor_.quarterLength = events[i][2]\n",
        "      new_channel.append(valor_)\n",
        "\n",
        "    if events[i][0] == 'Chord':\n",
        "      valor_ = chord.Chord(events[i][1])\n",
        "      valor_.quarterLength = events[i][2]\n",
        "      new_channel.append(valor_)\n",
        "\n",
        "    if events[i][0] == 'Rest':\n",
        "      valor_ = note.Rest()\n",
        "      valor_.quarterLength = events[i][2]\n",
        "      new_channel.append(valor_)\n",
        "      \n",
        "  return new_channel\n",
        "\n",
        "def write_new_score(score_name, events_1, events_2):\n",
        "  score = stream.Score(id=score_name)\n",
        "\n",
        "  new_channel_1 = channel_insertion(events_1, 'part0')\n",
        "  new_channel_2 = channel_insertion(events_2, 'part1')\n",
        "\n",
        "  score.insert(0, new_channel_1)\n",
        "  score.insert(0, new_channel_2)\n",
        "\n",
        "  score.write('musicxml', '/content/gdrive/MyDrive/TCC - Aline Rezende/midi/score outputs/newscore.mxl')\n",
        "  score.write('midi', '/content/gdrive/MyDrive/TCC - Aline Rezende/midi/score outputs/newscore.mid')\n",
        "\n",
        "  return score\n",
        "\n",
        "# =============================================================================\n",
        "\n",
        "def create_csv(strings_csv):\n",
        "  # open the file in the write mode\n",
        "  f = open('/content/gdrive/MyDrive/TCC - Aline Rezende/midi/Cmaj1.csv', 'w')\n",
        "\n",
        "  # create the csv writer\n",
        "  writer = csv.writer(f)\n",
        "\n",
        "  # write a row to the csv file\n",
        "  for i in range(len(strings_csv)):\n",
        "    writer.writerow(strings_csv[i])\n",
        "\n",
        "  # close the file\n",
        "  f.close()\n",
        "\n",
        "# =============================================================================\n",
        "\n",
        "def show(music):\n",
        "  display(Image(str(music.write('lily.png'))))\n",
        "\n",
        "def play(music):\n",
        "  filename = music.write('mid')\n",
        "  !fluidsynth -ni font.sf2 $filename -F $filename.wav -r 44100 > /dev/null\n",
        "  display(Audio(filename + '.wav'))\n",
        "\n",
        "def print_cool_info(score, name):\n",
        "  print('Cool info about the', name, ':')\n",
        "  show(score)\n",
        "  #print()\n",
        "  #play(score)\n",
        "  print()\n",
        "  score.plot('histogram', 'pitch')\n",
        "  print()\n",
        "\n",
        "# =============================================================================\n",
        "\n",
        "def main():\n",
        "  path = \"/content/gdrive/MyDrive/TCC - Aline Rezende/midi/Cmaj.mid\"\n",
        "\n",
        "  piece = converter.parse(path)\n",
        "  #print_cool_info(piece, 'Original Score')\n",
        "  events_1, events_2 = get_midi_info(piece)\n",
        "\n",
        "  strings_csv = []\n",
        "  strings_csv = copy.copy(events_1)\n",
        "  strings_csv.extend(events_2)\n",
        "\n",
        "  create_csv(strings_csv)\n",
        "\n",
        "  new_score = write_new_score(\"NewScore\", events_1, events_2)\n",
        "\n",
        "  print_cool_info(new_score, 'New Score')"
      ],
      "metadata": {
        "id": "iMjkSpvu3_JF"
      },
      "execution_count": 146,
      "outputs": []
    },
    {
      "cell_type": "code",
      "source": [
        "main()"
      ],
      "metadata": {
        "colab": {
          "base_uri": "https://localhost:8080/",
          "height": 628
        },
        "id": "E0j3xwDLwZzf",
        "outputId": "ce656ca6-bed0-4baf-edc9-e61ef78b5a25"
      },
      "execution_count": 147,
      "outputs": [
        {
          "output_type": "stream",
          "name": "stdout",
          "text": [
            "Cool info about the New Score :\n"
          ]
        },
        {
          "output_type": "display_data",
          "data": {
            "text/plain": [
              "<IPython.core.display.Image object>"
            ],
            "image/png": "[encoded data removed]"
          },
          "metadata": {}
        },
        {
          "output_type": "stream",
          "name": "stdout",
          "text": [
            "\n",
            "\n"
          ]
        },
        {
          "output_type": "display_data",
          "data": {
            "text/plain": [
              "<Figure size 720x432 with 1 Axes>"
            ],
            "image/png": "[encoded data removed]"
          },
          "metadata": {
            "image/png": {
              "width": 579,
              "height": 382
            }
          }
        }
      ]
    },
    {
      "cell_type": "markdown",
      "source": [
        "musescore could be a problem, as it wasn't able to represent a whole tone as having duration 4"
      ],
      "metadata": {
        "id": "DtxTcDSF9SOc"
      }
    }
  ]
}