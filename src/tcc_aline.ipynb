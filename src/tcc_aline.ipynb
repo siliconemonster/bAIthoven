{
  "nbformat": 4,
  "nbformat_minor": 0,
  "metadata": {
    "colab": {
      "name": "TCC Aline.ipynb",
      "provenance": [],
      "collapsed_sections": []
    },
    "kernelspec": {
      "name": "python3",
      "display_name": "Python 3"
    },
    "language_info": {
      "name": "python"
    }
  },
  "cells": [
    {
      "cell_type": "markdown",
      "source": [
        "#Tasks"
      ],
      "metadata": {
        "id": "9zf3akm-_wDm"
      }
    },
    {
      "cell_type": "markdown",
      "source": [
        "Fazer:\n",
        "- como extrair canal do midi\n",
        "- montar um possível CSV\n",
        "- continuar o livro do briot\n",
        "- começar a escrever o texto\n",
        "\n",
        "Dúvidas:\n",
        "- como lidar com notas simultâneas\n",
        "- como escrever um midi em um canal separado (talvez no reaper)\n",
        "- só consegui pegar informações tanto do canal quanto das notas lendo o arquivo 2x. Músicas grandes demoram muito"
      ],
      "metadata": {
        "id": "clE6XLQCUSt2"
      }
    },
    {
      "cell_type": "markdown",
      "source": [
        "# Implementation"
      ],
      "metadata": {
        "id": "G4TjRwsR_uNj"
      }
    },
    {
      "cell_type": "markdown",
      "source": [
        "화이팅"
      ],
      "metadata": {
        "id": "VA9Iby4pXOdY"
      }
    },
    {
      "cell_type": "code",
      "execution_count": 1,
      "metadata": {
        "id": "wvLmIOSBXLmO",
        "colab": {
          "base_uri": "https://localhost:8080/"
        },
        "outputId": "edc3d00b-aafe-4d07-e1c5-55f4ba5eda29"
      },
      "outputs": [
        {
          "output_type": "stream",
          "name": "stdout",
          "text": [
            "Mounted at /content/gdrive\n"
          ]
        }
      ],
      "source": [
        "# Mount Drive\n",
        "from google.colab import drive\n",
        "drive.mount('/content/gdrive', force_remount=True)"
      ]
    },
    {
      "cell_type": "code",
      "source": [
        "#enables music21 to render images of musical notes\n",
        "print('installing lilypond...')\n",
        "!apt-get install lilypond > /dev/null\n",
        "\n",
        "print('installing musescore...')\n",
        "!sudo apt-get install musescore\n",
        "\n",
        "#converts midi files to wav files into order to play them\n",
        "print('installing fluidsynth...')\n",
        "!apt-get install fluidsynth > /dev/null\n",
        "!cp /usr/share/sounds/sf2/FluidR3_GM.sf2 ./font.sf2\n",
        "\n",
        "print(\"Done\")"
      ],
      "metadata": {
        "id": "ZSkRfwnfXLZt"
      },
      "execution_count": null,
      "outputs": []
    },
    {
      "cell_type": "code",
      "source": [
        "pip install music21"
      ],
      "metadata": {
        "colab": {
          "base_uri": "https://localhost:8080/"
        },
        "id": "sGAntFfBPbjk",
        "outputId": "4199ebc4-6787-4fdd-cfb6-31f5531af041"
      },
      "execution_count": 3,
      "outputs": [
        {
          "output_type": "stream",
          "name": "stdout",
          "text": [
            "Looking in indexes: https://pypi.org/simple, https://us-python.pkg.dev/colab-wheels/public/simple/\n",
            "Requirement already satisfied: music21 in /usr/local/lib/python3.7/dist-packages (5.5.0)\n"
          ]
        }
      ]
    },
    {
      "cell_type": "code",
      "source": [
        "# Importing libraries\n",
        "import music21\n",
        "import csv\n",
        "import pandas as pd\n",
        "from IPython.display import Image, Audio"
      ],
      "metadata": {
        "id": "2fBVkOIrks9m"
      },
      "execution_count": 78,
      "outputs": []
    },
    {
      "cell_type": "code",
      "source": [
        "def create_csv(strings_csv):\n",
        "  # open the file in the write mode\n",
        "  f = open('/content/gdrive/MyDrive/TCC - Aline/midi/Cmaj.csv', 'w')\n",
        "\n",
        "  # create the csv writer\n",
        "  writer = csv.writer(f)\n",
        "\n",
        "  # write a row to the csv file\n",
        "  for i in range(len(strings_csv)):\n",
        "    writer.writerow(strings_csv[i])\n",
        "\n",
        "  # close the file\n",
        "  f.close()\n",
        "\n",
        "\n",
        "def get_midi_info():\n",
        "  path = \"/content/gdrive/MyDrive/TCC - Aline/midi/Cmaj.MID\"\n",
        "  m = music21.midi.MidiFile()\n",
        "  m.open(path)\n",
        "\n",
        "  # For some reason, I could only read the channel like this but couldn't get the notes\n",
        "  m.read()\n",
        "\n",
        "  # For some reason, I could only read the notes like this but couldn't get the channel\n",
        "  piece = music21.converter.parse(path).flat.getElementsByClass('Note')\n",
        "  #pitches = [x.pitch.midi for x in piece]\n",
        "  #durations = [x.duration.type for x in piece]\n",
        "\n",
        "  channels = []\n",
        "  strings_csv = []\n",
        "\n",
        "  for e in m.tracks[0].events:\n",
        "    if e.channel is not None:\n",
        "      channels.append(e.channel)\n",
        "\n",
        "  for i in range(len(piece)):\n",
        "    print(\"Note:\", piece[i].pitch.midi, piece[i].pitch.unicodeName, piece[i].octave, \"| Duration:\", piece[i].duration.type, \"| Velocity:\", piece[i].volume.velocity,\"| Channel:\", channels[i])\n",
        "    temp = [piece[i].pitch.midi, piece[i].pitch, piece[i].duration.type, piece[i].volume.velocity, channels[i]]\n",
        "    strings_csv.append(temp)\n",
        "\n",
        "  create_csv(strings_csv)\n",
        "  "
      ],
      "metadata": {
        "id": "u6iJsd61m2v2"
      },
      "execution_count": 113,
      "outputs": []
    },
    {
      "cell_type": "code",
      "source": [
        "get_midi_info()"
      ],
      "metadata": {
        "colab": {
          "base_uri": "https://localhost:8080/"
        },
        "id": "HKm7vlcM8IdD",
        "outputId": "803405c3-9c5b-4fe9-e69c-78839c9c13d0"
      },
      "execution_count": 111,
      "outputs": [
        {
          "output_type": "stream",
          "name": "stdout",
          "text": [
            "Note: 60 C 4 | Duration: quarter | Velocity: 127 | Channel: 1\n",
            "Note: 48 C 3 | Duration: whole | Velocity: 127 | Channel: 1\n",
            "Note: 62 D 4 | Duration: quarter | Velocity: 127 | Channel: 1\n",
            "Note: 64 E 4 | Duration: quarter | Velocity: 77 | Channel: 1\n",
            "Note: 60 C 4 | Duration: quarter | Velocity: 126 | Channel: 1\n",
            "Note: 65 F 4 | Duration: quarter | Velocity: 127 | Channel: 1\n",
            "Note: 67 G 4 | Duration: quarter | Velocity: 127 | Channel: 1\n",
            "Note: 55 G 3 | Duration: whole | Velocity: 127 | Channel: 1\n",
            "Note: 69 A 4 | Duration: quarter | Velocity: 127 | Channel: 1\n",
            "Note: 71 B 4 | Duration: quarter | Velocity: 127 | Channel: 1\n",
            "Note: 72 C 5 | Duration: quarter | Velocity: 127 | Channel: 1\n"
          ]
        }
      ]
    },
    {
      "cell_type": "code",
      "source": [
        "# m\n",
        "# piece\n",
        "# piece[0].pitch\n",
        "# piece[0].pitch.midi\n",
        "# piece[0].pitch.frequency\n",
        "# piece[0].pitch.unicodeName # apparently this prints the sharps and flats correctly\n",
        "# piece[0].name\n",
        "# piece[0].octave\n",
        "# piece[0].duration\n",
        "# piece[0].duration.type\n",
        "# piece[0].pitch.pitchClass\n",
        "# piece[0].pitch.pitchClassString\n",
        "# piece[0].volume\n",
        "# piece[0].volume.velocity"
      ],
      "metadata": {
        "id": "ES_-87WmVR7p"
      },
      "execution_count": 109,
      "outputs": []
    },
    {
      "cell_type": "code",
      "source": [
        "def show(music):\n",
        "  display(Image(str(music.write('lily.png'))))\n",
        "\n",
        "def play(music):\n",
        "  filename = music.write('mid')\n",
        "  !fluidsynth -ni font.sf2 $filename -F $filename.wav -r 44100 > /dev/null\n",
        "  display(Audio(filename + '.wav'))"
      ],
      "metadata": {
        "id": "O1NZs4eDZEoD"
      },
      "execution_count": 114,
      "outputs": []
    },
    {
      "cell_type": "markdown",
      "source": [
        "## Cool visualization"
      ],
      "metadata": {
        "id": "jJj1_Kge_gTI"
      }
    },
    {
      "cell_type": "code",
      "source": [
        "show(piece)"
      ],
      "metadata": {
        "id": "PaT-UcBOYN0Q",
        "colab": {
          "base_uri": "https://localhost:8080/",
          "height": 114
        },
        "outputId": "bba1b05d-615d-40ec-8436-6ec7edb41f0a"
      },
      "execution_count": 115,
      "outputs": [
        {
          "output_type": "display_data",
          "data": {
            "text/plain": [
              "<IPython.core.display.Image object>"
            ],
            "image/png": "[encoded data removed]"
          },
          "metadata": {}
        }
      ]
    },
    {
      "cell_type": "code",
      "source": [
        "#play(piece)"
      ],
      "metadata": {
        "id": "6-6kQDYVvk34"
      },
      "execution_count": 120,
      "outputs": []
    },
    {
      "cell_type": "code",
      "source": [
        "piece.plot('histogram', 'pitch')"
      ],
      "metadata": {
        "id": "f9k9JkIAOtiJ",
        "colab": {
          "base_uri": "https://localhost:8080/",
          "height": 399
        },
        "outputId": "b81fa412-7166-4b57-e0e8-1a336481981a"
      },
      "execution_count": 121,
      "outputs": [
        {
          "output_type": "display_data",
          "data": {
            "text/plain": [
              "<Figure size 720x432 with 1 Axes>"
            ],
            "image/png": "[encoded data removed]"
          },
          "metadata": {
            "image/png": {
              "width": 579,
              "height": 382
            }
          }
        }
      ]
    }
  ]
}